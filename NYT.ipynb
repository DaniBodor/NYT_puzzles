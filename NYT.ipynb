{
 "cells": [
  {
   "cell_type": "code",
   "execution_count": 1,
   "metadata": {},
   "outputs": [],
   "source": [
    "from itertools import combinations\n",
    "from pprint import pprint\n",
    "\n",
    "ALL_COMBOS = [''.join(x) for x in combinations(\"ABCDEFGH\", 4)]"
   ]
  },
  {
   "cell_type": "code",
   "execution_count": 75,
   "metadata": {},
   "outputs": [
    {
     "name": "stdout",
     "output_type": "stream",
     "text": [
      "[]\n",
      "0\n"
     ]
    }
   ],
   "source": [
    "# Set grid and tested options\n",
    "\n",
    "grid = {\n",
    "    'A': 'sprain',\n",
    "    'B': 'flair',\n",
    "    'C': 'mummy',\n",
    "    'D': 'instinct',\n",
    "    'E': 'gift',\n",
    "    'F': 'burrito',\n",
    "    'G': 'talent',\n",
    "    'H': 'faculty',\n",
    "}\n",
    "\n",
    "tested = {\n",
    "    'ABCD': 2,\n",
    "    'ABEF': 2,\n",
    "    'ABGH': 3,\n",
    "}\n",
    "\n",
    "# Resolve remaining options\n",
    "valid_options = set()\n",
    "for combo in ALL_COMBOS:\n",
    "    tests_passed = 0\n",
    "    for test, result in tested.items():\n",
    "        n_test_in_combo = sum(1 for letter in test if letter in combo)\n",
    "        if result == n_test_in_combo:\n",
    "            tests_passed += 1\n",
    "    if tests_passed == len(tested):\n",
    "        valid_options.add(combo)\n",
    "valid_options = sorted(valid_options)\n",
    "\n",
    "# final = []\n",
    "# for i, option in enumerate(valid_options):\n",
    "#     final.append(f'Option {i+1}: ')\n",
    "#     group1 = [grid[x] for x in option]\n",
    "#     group2 = [grid[x] for x in grid if x not in option]\n",
    "#     print(type(final[i]))\n",
    "#     final[i].join([group1, group2])\n",
    "\n",
    "pprint(valid_options)\n",
    "print(len(valid_options))\n"
   ]
  },
  {
   "cell_type": "code",
   "execution_count": 25,
   "metadata": {},
   "outputs": [
    {
     "data": {
      "text/plain": [
       "['YEAYH',\n",
       " 'YENAH',\n",
       " 'YENCH',\n",
       " 'YECEH',\n",
       " 'YEEEH',\n",
       " 'YEHYH',\n",
       " 'YEKHH',\n",
       " 'YECAH',\n",
       " 'YEANH']"
      ]
     },
     "execution_count": 25,
     "metadata": {},
     "output_type": "execute_result"
    }
   ],
   "source": [
    "central = 'H'\n",
    "letters = 'ACEHKNY'\n",
    "\n",
    "start = 'YE'\n",
    "length = 7\n",
    "\n",
    "options = []\n",
    "for letter_1 in letters:\n",
    "    for letter_2 in letters:\n",
    "        # options.append(start + central + letter_1 + letter_2)\n",
    "        # options.append(start + letter_1 + central + letter_2)\n",
    "        options.append(start + letter_1 + letter_2 + central)\n",
    "options = list(set(options))\n",
    "\n",
    "options[40:]\n",
    "# len(options)\n"
   ]
  }
 ],
 "metadata": {
  "kernelspec": {
   "display_name": "Python 3",
   "language": "python",
   "name": "python3"
  },
  "language_info": {
   "codemirror_mode": {
    "name": "ipython",
    "version": 3
   },
   "file_extension": ".py",
   "mimetype": "text/x-python",
   "name": "python",
   "nbconvert_exporter": "python",
   "pygments_lexer": "ipython3",
   "version": "3.10.14"
  }
 },
 "nbformat": 4,
 "nbformat_minor": 2
}
